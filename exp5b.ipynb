{
  "nbformat": 4,
  "nbformat_minor": 0,
  "metadata": {
    "colab": {
      "provenance": []
    },
    "kernelspec": {
      "name": "python3",
      "display_name": "Python 3"
    },
    "language_info": {
      "name": "python"
    }
  },
  "cells": [
    {
      "cell_type": "code",
      "execution_count": null,
      "metadata": {
        "id": "GW92w5aNHVZ0"
      },
      "outputs": [],
      "source": [
        "import cv2\n",
        "import numpy as np\n",
        "import matplotlib.pyplot as plt\n",
        "\n",
        "# Load image in grayscale\n",
        "image = cv2.imread('/content/sohan1.jpg', cv2.IMREAD_GRAYSCALE)\n",
        "\n",
        "# Define Prewitt kernels\n",
        "prewitt_x = np.array([[-1, 0, 1],\n",
        "                      [-1, 0, 1],\n",
        "                      [-1, 0, 1]])\n",
        "\n",
        "prewitt_y = np.array([[-1, -1, -1],\n",
        "                      [ 0,  0,  0],\n",
        "                      [ 1,  1,  1]])\n",
        "\n",
        "# Apply Prewitt operator using convolution\n",
        "prewitt_x_result = cv2.filter2D(image, -1, prewitt_x)\n",
        "prewitt_y_result = cv2.filter2D(image, -1, prewitt_y)\n",
        "\n",
        "# Compute the magnitude of the gradient\n",
        "magnitude = np.sqrt(prewitt_x_result**2 + prewitt_y_result**2)\n",
        "\n",
        "# Convert to 8-bit image\n",
        "magnitude = np.uint8(np.absolute(magnitude))\n",
        "\n",
        "# Display the results\n",
        "plt.figure(figsize=(10, 7))\n",
        "plt.subplot(1, 3, 1), plt.imshow(image, cmap='gray'), plt.title('Original Image')\n",
        "plt.subplot(1, 3, 2), plt.imshow(magnitude, cmap='gray'), plt.title('Prewitt Edge Magnitude')\n",
        "plt.subplot(1, 3, 3), plt.imshow(prewitt_x_result, cmap='gray'), plt.title('Prewitt X Direction')\n",
        "plt.show()"
      ]
    }
  ]
}